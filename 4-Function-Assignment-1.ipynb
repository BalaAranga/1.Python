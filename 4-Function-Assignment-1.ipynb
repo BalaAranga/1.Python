{
 "cells": [
  {
   "cell_type": "code",
   "execution_count": 9,
   "metadata": {},
   "outputs": [],
   "source": [
    "# Create function"
   ]
  },
  {
   "cell_type": "code",
   "execution_count": 1,
   "metadata": {},
   "outputs": [],
   "source": [
    "def Subfields():\n",
    "    print(\"Sub-fields in AI are:\")\n",
    "    print(\"Machine Learning\")\n",
    "    print(\"Neural Networks\")\n",
    "    print(\"Vision\")\n",
    "    print(\"Robotics\")\n",
    "    print(\"Speech Processing\")\n",
    "    print(\"Natural Language Processing\")"
   ]
  },
  {
   "cell_type": "code",
   "execution_count": 2,
   "metadata": {},
   "outputs": [
    {
     "name": "stdout",
     "output_type": "stream",
     "text": [
      "Sub-fields in AI are:\n",
      "Machine Learning\n",
      "Neural Networks\n",
      "Vision\n",
      "Robotics\n",
      "Speech Processing\n",
      "Natural Language Processing\n"
     ]
    }
   ],
   "source": [
    "Subfields()"
   ]
  },
  {
   "cell_type": "code",
   "execution_count": null,
   "metadata": {},
   "outputs": [],
   "source": [
    "# Create function oddeven number"
   ]
  },
  {
   "cell_type": "code",
   "execution_count": 10,
   "metadata": {},
   "outputs": [],
   "source": [
    "def OddEven():\n",
    "    Num = int(input(\"Enter a number: \"))\n",
    "    if(Num%2 == 0):\n",
    "        print(Num,\"is Even number\")\n",
    "    else:\n",
    "        print(Num,\"is Odd number\")"
   ]
  },
  {
   "cell_type": "code",
   "execution_count": 11,
   "metadata": {},
   "outputs": [
    {
     "name": "stdout",
     "output_type": "stream",
     "text": [
      "Enter a number: 4\n",
      "4 is Even number\n"
     ]
    }
   ],
   "source": [
    "OddEven()"
   ]
  },
  {
   "cell_type": "code",
   "execution_count": null,
   "metadata": {},
   "outputs": [],
   "source": [
    "# Create function for marriage"
   ]
  },
  {
   "cell_type": "code",
   "execution_count": null,
   "metadata": {},
   "outputs": [],
   "source": [
    "Elegible()\n",
    "Your Gender:Male\n",
    "Your Age:18\n",
    "NOT ELIGIBLE\n"
   ]
  },
  {
   "cell_type": "code",
   "execution_count": 32,
   "metadata": {},
   "outputs": [],
   "source": [
    "def Elegible():\n",
    "    Gender = input(\"Your Gender:\")\n",
    "    Age = int(input(\"Your Age:\"))\n",
    "    if(Gender.lower()==\"male\"):\n",
    "        if(Age>21):\n",
    "            print(\"ELIGIBLE\")\n",
    "        else:\n",
    "            print(\"NOT ELIGIBLE\")\n",
    "    elif(Gender.lower()==\"female\"):\n",
    "        if(Age>18):\n",
    "            print(\"ELIGIBLE\")\n",
    "        else:\n",
    "            print(\"NOT ELIGIBLE\")\n",
    "    else:\n",
    "        print(\"ENTER YOUR GENDER......\")"
   ]
  },
  {
   "cell_type": "code",
   "execution_count": 33,
   "metadata": {},
   "outputs": [
    {
     "name": "stdout",
     "output_type": "stream",
     "text": [
      "Your Gender:Male\n",
      "Your Age:18\n",
      "NOT ELIGIBLE\n"
     ]
    }
   ],
   "source": [
    "Elegible()\n"
   ]
  },
  {
   "cell_type": "code",
   "execution_count": null,
   "metadata": {},
   "outputs": [],
   "source": [
    "# Create function for marriage with retun keyword"
   ]
  },
  {
   "cell_type": "code",
   "execution_count": 5,
   "metadata": {},
   "outputs": [],
   "source": [
    "def Elegible1():\n",
    "    Gender = input(\"Your Gender:\")\n",
    "    Age = int(input(\"Your Age:\"))\n",
    "    if(Gender.lower()==\"male\"):\n",
    "        if(Age>21):\n",
    "            print(\"ELIGIBLE\")\n",
    "            message = \"ELIGIBLE\"           \n",
    "        else:\n",
    "            print(\"NOT ELIGIBLE\")\n",
    "            message = \"NOT ELIGIBLE\"\n",
    "    elif(Gender.lower()==\"female\"):\n",
    "        if(Age>18):\n",
    "            print(\"ELIGIBLE\")\n",
    "            message = \"ELIGIBLE\"\n",
    "        else:\n",
    "            print(\"NOT ELIGIBLE\")\n",
    "            message = \"NOT ELIGIBLE\"\n",
    "    else:\n",
    "        print(\"ENTER YOUR GENDER......\")\n",
    "    return message"
   ]
  },
  {
   "cell_type": "code",
   "execution_count": 6,
   "metadata": {},
   "outputs": [
    {
     "name": "stdout",
     "output_type": "stream",
     "text": [
      "Your Gender:female\n",
      "Your Age:46\n",
      "ELIGIBLE\n"
     ]
    },
    {
     "data": {
      "text/plain": [
       "'ELIGIBLE'"
      ]
     },
     "execution_count": 6,
     "metadata": {},
     "output_type": "execute_result"
    }
   ],
   "source": [
    "Elegible1()"
   ]
  },
  {
   "cell_type": "code",
   "execution_count": 7,
   "metadata": {},
   "outputs": [
    {
     "name": "stdout",
     "output_type": "stream",
     "text": [
      "Your Gender:male\n",
      "Your Age:20\n",
      "NOT ELIGIBLE\n"
     ]
    }
   ],
   "source": [
    "marriage = Elegible1()"
   ]
  },
  {
   "cell_type": "code",
   "execution_count": 8,
   "metadata": {},
   "outputs": [
    {
     "data": {
      "text/plain": [
       "'NOT ELIGIBLE'"
      ]
     },
     "execution_count": 8,
     "metadata": {},
     "output_type": "execute_result"
    }
   ],
   "source": [
    "marriage"
   ]
  },
  {
   "cell_type": "code",
   "execution_count": null,
   "metadata": {},
   "outputs": [],
   "source": [
    "# Create function for percentage calculation"
   ]
  },
  {
   "cell_type": "code",
   "execution_count": 32,
   "metadata": {},
   "outputs": [],
   "source": [
    "def percentage():\n",
    "    Subject1= int(input(\"Subject1= \"))\n",
    "    Subject2= int(input(\"Subject2= \"))\n",
    "    Subject3= int(input(\"Subject3= \"))\n",
    "    Subject4= int(input(\"Subject4= \"))\n",
    "    Subject5= int(input(\"Subject5= \"))\n",
    "    Total = (Subject1+Subject2+Subject3+Subject4+Subject5)\n",
    "    print(\"Total : \",Total)\n",
    "    Percentage = (Total/500)*100\n",
    "    print(\"Percentage : \",Percentage)\n",
    "    return Subject1,Subject2,Subject3,Subject4,Subject5,Total,Percentage"
   ]
  },
  {
   "cell_type": "code",
   "execution_count": 33,
   "metadata": {},
   "outputs": [
    {
     "name": "stdout",
     "output_type": "stream",
     "text": [
      "Subject1= 23\n",
      "Subject2= 45\n",
      "Subject3= 34\n",
      "Subject4= 23\n",
      "Subject5= 23\n",
      "Total :  148\n",
      "Percentage :  29.599999999999998\n"
     ]
    }
   ],
   "source": [
    "per = percentage()"
   ]
  },
  {
   "cell_type": "code",
   "execution_count": 34,
   "metadata": {},
   "outputs": [
    {
     "data": {
      "text/plain": [
       "(23, 45, 34, 23, 23, 148, 29.599999999999998)"
      ]
     },
     "execution_count": 34,
     "metadata": {},
     "output_type": "execute_result"
    }
   ],
   "source": [
    "per"
   ]
  },
  {
   "cell_type": "code",
   "execution_count": null,
   "metadata": {},
   "outputs": [],
   "source": [
    "#print area and perimeter of triangle using functions"
   ]
  },
  {
   "cell_type": "code",
   "execution_count": 37,
   "metadata": {},
   "outputs": [],
   "source": [
    "def triangle():\n",
    "    Height = int(input(\"Height:\"))\n",
    "    Breadth = int(input(\"Breadth:\"))\n",
    "    print(\"Area formula: (Height*Breadth)/2\")\n",
    "    Area = (Height*Breadth)/2\n",
    "    print(\"Area of Triangle: \",Area)\n",
    "    Height1 = int(input(\"Height1:\"))\n",
    "    Height2 = int(input(\"Height2:\"))\n",
    "    Breadth1 = int(input(\"Breadth:\"))\n",
    "    print(\"Perimeter formula: Height1+Height2+Breadth\")\n",
    "    Perimeter = Height1+Height2+Breadth1\n",
    "    print(\"Perimeter of Triangle: \",Perimeter)\n",
    "    return Height,Breadth,Area,Height1,Height2,Breadth1,Perimeter\n",
    "    "
   ]
  },
  {
   "cell_type": "code",
   "execution_count": 38,
   "metadata": {},
   "outputs": [
    {
     "name": "stdout",
     "output_type": "stream",
     "text": [
      "Height:3\n",
      "Breadth:4\n",
      "Area formula: (Height*Breadth)/2\n",
      "Area of Triangle:  6.0\n",
      "Height1:3\n",
      "Height2:4\n",
      "Breadth:45\n",
      "Perimeter formula: Height1+Height2+Breadth\n",
      "Perimeter of Triangle:  52\n"
     ]
    },
    {
     "data": {
      "text/plain": [
       "(3, 4, 6.0, 3, 4, 45, 52)"
      ]
     },
     "execution_count": 38,
     "metadata": {},
     "output_type": "execute_result"
    }
   ],
   "source": [
    "triangle()"
   ]
  },
  {
   "cell_type": "code",
   "execution_count": 39,
   "metadata": {},
   "outputs": [
    {
     "name": "stdout",
     "output_type": "stream",
     "text": [
      "Height:3\n",
      "Breadth:4\n",
      "Area formula: (Height*Breadth)/2\n",
      "Area of Triangle:  6.0\n",
      "Height1:3\n",
      "Height2:4\n",
      "Breadth:45\n",
      "Perimeter formula: Height1+Height2+Breadth\n",
      "Perimeter of Triangle:  52\n"
     ]
    }
   ],
   "source": [
    "tri = triangle()"
   ]
  },
  {
   "cell_type": "code",
   "execution_count": 40,
   "metadata": {},
   "outputs": [
    {
     "data": {
      "text/plain": [
       "(3, 4, 6.0, 3, 4, 45, 52)"
      ]
     },
     "execution_count": 40,
     "metadata": {},
     "output_type": "execute_result"
    }
   ],
   "source": [
    "tri"
   ]
  },
  {
   "cell_type": "code",
   "execution_count": null,
   "metadata": {},
   "outputs": [],
   "source": []
  }
 ],
 "metadata": {
  "kernelspec": {
   "display_name": "Python 3",
   "language": "python",
   "name": "python3"
  },
  "language_info": {
   "codemirror_mode": {
    "name": "ipython",
    "version": 3
   },
   "file_extension": ".py",
   "mimetype": "text/x-python",
   "name": "python",
   "nbconvert_exporter": "python",
   "pygments_lexer": "ipython3",
   "version": "3.7.4"
  }
 },
 "nbformat": 4,
 "nbformat_minor": 2
}
