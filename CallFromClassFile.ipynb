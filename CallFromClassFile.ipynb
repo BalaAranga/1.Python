{
 "cells": [
  {
   "cell_type": "code",
   "execution_count": 2,
   "metadata": {},
   "outputs": [],
   "source": [
    "from ClassFunctionCall import MultiFunctionCall"
   ]
  },
  {
   "cell_type": "code",
   "execution_count": 5,
   "metadata": {},
   "outputs": [
    {
     "name": "stdout",
     "output_type": "stream",
     "text": [
      "Sub-fields in AI are:\n",
      "Machine Learning\n",
      "Neural Networks\n",
      "Vision\n",
      "Robotics\n",
      "Speech Processing\n",
      "Natural Language Processing\n"
     ]
    }
   ],
   "source": [
    "MultiFunctionCall.Subfields()"
   ]
  },
  {
   "cell_type": "code",
   "execution_count": 6,
   "metadata": {},
   "outputs": [
    {
     "name": "stdout",
     "output_type": "stream",
     "text": [
      "Enter a number: 257\n",
      "257 is Odd number\n"
     ]
    }
   ],
   "source": [
    "MultiFunctionCall.OddEven()"
   ]
  },
  {
   "cell_type": "code",
   "execution_count": 7,
   "metadata": {},
   "outputs": [
    {
     "name": "stdout",
     "output_type": "stream",
     "text": [
      "Your Gender:male\n",
      "Your Age:47\n",
      "ELIGIBLE\n"
     ]
    },
    {
     "data": {
      "text/plain": [
       "'ELIGIBLE'"
      ]
     },
     "execution_count": 7,
     "metadata": {},
     "output_type": "execute_result"
    }
   ],
   "source": [
    "MultiFunctionCall.Elegible()"
   ]
  },
  {
   "cell_type": "code",
   "execution_count": 8,
   "metadata": {},
   "outputs": [
    {
     "name": "stdout",
     "output_type": "stream",
     "text": [
      "Subject1= 75\n",
      "Subject2= 68\n",
      "Subject3= 94\n",
      "Subject4= 85\n",
      "Subject5= 91\n",
      "Total :  413\n",
      "Percentage :  82.6\n"
     ]
    },
    {
     "data": {
      "text/plain": [
       "(75, 68, 94, 85, 91, 413, 82.6)"
      ]
     },
     "execution_count": 8,
     "metadata": {},
     "output_type": "execute_result"
    }
   ],
   "source": [
    "MultiFunctionCall.percentage()"
   ]
  },
  {
   "cell_type": "code",
   "execution_count": 9,
   "metadata": {},
   "outputs": [
    {
     "name": "stdout",
     "output_type": "stream",
     "text": [
      "Height:52\n",
      "Breadth:46\n",
      "Area formula: (Height*Breadth)/2\n",
      "Area of Triangle:  1196.0\n",
      "Height1:42\n",
      "Height2:38\n",
      "Breadth:40\n",
      "Perimeter formula: Height1+Height2+Breadth\n",
      "Perimeter of Triangle:  120\n"
     ]
    },
    {
     "data": {
      "text/plain": [
       "(52, 46, 1196.0, 42, 38, 40, 120)"
      ]
     },
     "execution_count": 9,
     "metadata": {},
     "output_type": "execute_result"
    }
   ],
   "source": [
    "MultiFunctionCall.triangle()"
   ]
  },
  {
   "cell_type": "code",
   "execution_count": null,
   "metadata": {},
   "outputs": [],
   "source": []
  }
 ],
 "metadata": {
  "kernelspec": {
   "display_name": "Python 3",
   "language": "python",
   "name": "python3"
  },
  "language_info": {
   "codemirror_mode": {
    "name": "ipython",
    "version": 3
   },
   "file_extension": ".py",
   "mimetype": "text/x-python",
   "name": "python",
   "nbconvert_exporter": "python",
   "pygments_lexer": "ipython3",
   "version": "3.7.4"
  }
 },
 "nbformat": 4,
 "nbformat_minor": 2
}
